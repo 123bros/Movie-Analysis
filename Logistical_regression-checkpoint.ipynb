{
 "cells": [
  {
   "cell_type": "markdown",
   "id": "6c572846",
   "metadata": {},
   "source": [
    "# Logistacal Regression"
   ]
  },
  {
   "cell_type": "code",
   "execution_count": 1,
   "id": "2a3c9617",
   "metadata": {},
   "outputs": [],
   "source": [
    "import pandas as pd\n",
    "import numpy as np\n",
    "from sklearn import preprocessing\n",
    "import matplotlib.pyplot as plt \n",
    "plt.rc(\"font\", size=14)\n",
    "from sklearn.linear_model import LogisticRegression\n",
    "from sklearn.model_selection import train_test_split\n",
    "from sklearn.metrics import accuracy_score, confusion_matrix\n",
    "import seaborn as sb\n",
    "from sklearn.metrics import accuracy_score, precision_score, recall_score, f1_score, roc_curve, roc_auc_score\n"
   ]
  },
  {
   "cell_type": "code",
   "execution_count": 26,
   "id": "13bc7f6c",
   "metadata": {},
   "outputs": [
    {
     "data": {
      "text/html": [
       "<div>\n",
       "<style scoped>\n",
       "    .dataframe tbody tr th:only-of-type {\n",
       "        vertical-align: middle;\n",
       "    }\n",
       "\n",
       "    .dataframe tbody tr th {\n",
       "        vertical-align: top;\n",
       "    }\n",
       "\n",
       "    .dataframe thead th {\n",
       "        text-align: right;\n",
       "    }\n",
       "</style>\n",
       "<table border=\"1\" class=\"dataframe\">\n",
       "  <thead>\n",
       "    <tr style=\"text-align: right;\">\n",
       "      <th></th>\n",
       "      <th>Unnamed: 0</th>\n",
       "      <th>Title</th>\n",
       "      <th>Genres</th>\n",
       "      <th>Cast</th>\n",
       "      <th>Budget</th>\n",
       "      <th>Revenue</th>\n",
       "      <th>Popularity</th>\n",
       "      <th>Vote_average</th>\n",
       "      <th>Adult</th>\n",
       "    </tr>\n",
       "  </thead>\n",
       "  <tbody>\n",
       "    <tr>\n",
       "      <th>0</th>\n",
       "      <td>0</td>\n",
       "      <td>The Super Mario Bros. Movie</td>\n",
       "      <td>['Animation', 'Adventure', 'Family', 'Fantasy'...</td>\n",
       "      <td>['Chris Pratt', 'Anya Taylor-Joy', 'Charlie Da...</td>\n",
       "      <td>100000000</td>\n",
       "      <td>724289031</td>\n",
       "      <td>11969.858</td>\n",
       "      <td>7.492</td>\n",
       "      <td>False</td>\n",
       "    </tr>\n",
       "    <tr>\n",
       "      <th>1</th>\n",
       "      <td>1</td>\n",
       "      <td>Shazam! Fury of the Gods</td>\n",
       "      <td>['Action', 'Comedy', 'Fantasy']</td>\n",
       "      <td>['Zachary Levi', 'Asher Angel', 'Jack Dylan Gr...</td>\n",
       "      <td>125000000</td>\n",
       "      <td>0</td>\n",
       "      <td>6914.363</td>\n",
       "      <td>6.896</td>\n",
       "      <td>False</td>\n",
       "    </tr>\n",
       "    <tr>\n",
       "      <th>2</th>\n",
       "      <td>2</td>\n",
       "      <td>Avatar: The Way of Water</td>\n",
       "      <td>['Science Fiction', 'Adventure', 'Action']</td>\n",
       "      <td>['Sam Worthington', 'Zoe Saldaña', 'Sigourney ...</td>\n",
       "      <td>350000000</td>\n",
       "      <td>2312335665</td>\n",
       "      <td>4767.604</td>\n",
       "      <td>7.723</td>\n",
       "      <td>False</td>\n",
       "    </tr>\n",
       "    <tr>\n",
       "      <th>3</th>\n",
       "      <td>3</td>\n",
       "      <td>Creed III</td>\n",
       "      <td>['Drama', 'Action']</td>\n",
       "      <td>['Michael B. Jordan', 'Tessa Thompson', 'Jonat...</td>\n",
       "      <td>75000000</td>\n",
       "      <td>269000000</td>\n",
       "      <td>4119.989</td>\n",
       "      <td>7.262</td>\n",
       "      <td>False</td>\n",
       "    </tr>\n",
       "    <tr>\n",
       "      <th>4</th>\n",
       "      <td>4</td>\n",
       "      <td>Murder Mystery 2</td>\n",
       "      <td>['Comedy', 'Mystery', 'Action']</td>\n",
       "      <td>['Adam Sandler', 'Jennifer Aniston', 'Mark Str...</td>\n",
       "      <td>0</td>\n",
       "      <td>0</td>\n",
       "      <td>2962.064</td>\n",
       "      <td>6.545</td>\n",
       "      <td>False</td>\n",
       "    </tr>\n",
       "    <tr>\n",
       "      <th>...</th>\n",
       "      <td>...</td>\n",
       "      <td>...</td>\n",
       "      <td>...</td>\n",
       "      <td>...</td>\n",
       "      <td>...</td>\n",
       "      <td>...</td>\n",
       "      <td>...</td>\n",
       "      <td>...</td>\n",
       "      <td>...</td>\n",
       "    </tr>\n",
       "    <tr>\n",
       "      <th>175</th>\n",
       "      <td>175</td>\n",
       "      <td>Hacksaw Ridge</td>\n",
       "      <td>['Drama', 'History', 'War']</td>\n",
       "      <td>['Andrew Garfield', 'Sam Worthington', 'Vince ...</td>\n",
       "      <td>40000000</td>\n",
       "      <td>175302354</td>\n",
       "      <td>185.804</td>\n",
       "      <td>8.191</td>\n",
       "      <td>False</td>\n",
       "    </tr>\n",
       "    <tr>\n",
       "      <th>176</th>\n",
       "      <td>176</td>\n",
       "      <td>Close</td>\n",
       "      <td>['Drama']</td>\n",
       "      <td>['Eden Dambrine', 'Gustav De Waele', 'Émilie D...</td>\n",
       "      <td>0</td>\n",
       "      <td>3129968</td>\n",
       "      <td>134.953</td>\n",
       "      <td>7.800</td>\n",
       "      <td>False</td>\n",
       "    </tr>\n",
       "    <tr>\n",
       "      <th>177</th>\n",
       "      <td>177</td>\n",
       "      <td>Magic Mike's Last Dance</td>\n",
       "      <td>['Comedy', 'Drama', 'Romance']</td>\n",
       "      <td>['Channing Tatum', 'Salma Hayek', 'Ayub Khan-D...</td>\n",
       "      <td>45000000</td>\n",
       "      <td>52000000</td>\n",
       "      <td>182.668</td>\n",
       "      <td>7.183</td>\n",
       "      <td>False</td>\n",
       "    </tr>\n",
       "    <tr>\n",
       "      <th>178</th>\n",
       "      <td>178</td>\n",
       "      <td>Teen Wolf: The Movie</td>\n",
       "      <td>['Action', 'Fantasy', 'TV Movie']</td>\n",
       "      <td>['Tyler Posey', 'Crystal Reed', 'Holland Roden...</td>\n",
       "      <td>0</td>\n",
       "      <td>0</td>\n",
       "      <td>183.953</td>\n",
       "      <td>7.771</td>\n",
       "      <td>False</td>\n",
       "    </tr>\n",
       "    <tr>\n",
       "      <th>179</th>\n",
       "      <td>179</td>\n",
       "      <td>Shark Bait</td>\n",
       "      <td>['Horror', 'Thriller', 'Action', 'Adventure']</td>\n",
       "      <td>['Holly Earl', 'Maxime Durand', 'Catherine Han...</td>\n",
       "      <td>0</td>\n",
       "      <td>0</td>\n",
       "      <td>183.273</td>\n",
       "      <td>5.855</td>\n",
       "      <td>False</td>\n",
       "    </tr>\n",
       "  </tbody>\n",
       "</table>\n",
       "<p>180 rows × 9 columns</p>\n",
       "</div>"
      ],
      "text/plain": [
       "     Unnamed: 0                        Title  \\\n",
       "0             0  The Super Mario Bros. Movie   \n",
       "1             1     Shazam! Fury of the Gods   \n",
       "2             2     Avatar: The Way of Water   \n",
       "3             3                    Creed III   \n",
       "4             4             Murder Mystery 2   \n",
       "..          ...                          ...   \n",
       "175         175                Hacksaw Ridge   \n",
       "176         176                        Close   \n",
       "177         177      Magic Mike's Last Dance   \n",
       "178         178         Teen Wolf: The Movie   \n",
       "179         179                   Shark Bait   \n",
       "\n",
       "                                                Genres  \\\n",
       "0    ['Animation', 'Adventure', 'Family', 'Fantasy'...   \n",
       "1                      ['Action', 'Comedy', 'Fantasy']   \n",
       "2           ['Science Fiction', 'Adventure', 'Action']   \n",
       "3                                  ['Drama', 'Action']   \n",
       "4                      ['Comedy', 'Mystery', 'Action']   \n",
       "..                                                 ...   \n",
       "175                        ['Drama', 'History', 'War']   \n",
       "176                                          ['Drama']   \n",
       "177                     ['Comedy', 'Drama', 'Romance']   \n",
       "178                  ['Action', 'Fantasy', 'TV Movie']   \n",
       "179      ['Horror', 'Thriller', 'Action', 'Adventure']   \n",
       "\n",
       "                                                  Cast     Budget     Revenue  \\\n",
       "0    ['Chris Pratt', 'Anya Taylor-Joy', 'Charlie Da...  100000000   724289031   \n",
       "1    ['Zachary Levi', 'Asher Angel', 'Jack Dylan Gr...  125000000           0   \n",
       "2    ['Sam Worthington', 'Zoe Saldaña', 'Sigourney ...  350000000  2312335665   \n",
       "3    ['Michael B. Jordan', 'Tessa Thompson', 'Jonat...   75000000   269000000   \n",
       "4    ['Adam Sandler', 'Jennifer Aniston', 'Mark Str...          0           0   \n",
       "..                                                 ...        ...         ...   \n",
       "175  ['Andrew Garfield', 'Sam Worthington', 'Vince ...   40000000   175302354   \n",
       "176  ['Eden Dambrine', 'Gustav De Waele', 'Émilie D...          0     3129968   \n",
       "177  ['Channing Tatum', 'Salma Hayek', 'Ayub Khan-D...   45000000    52000000   \n",
       "178  ['Tyler Posey', 'Crystal Reed', 'Holland Roden...          0           0   \n",
       "179  ['Holly Earl', 'Maxime Durand', 'Catherine Han...          0           0   \n",
       "\n",
       "     Popularity  Vote_average  Adult  \n",
       "0     11969.858         7.492  False  \n",
       "1      6914.363         6.896  False  \n",
       "2      4767.604         7.723  False  \n",
       "3      4119.989         7.262  False  \n",
       "4      2962.064         6.545  False  \n",
       "..          ...           ...    ...  \n",
       "175     185.804         8.191  False  \n",
       "176     134.953         7.800  False  \n",
       "177     182.668         7.183  False  \n",
       "178     183.953         7.771  False  \n",
       "179     183.273         5.855  False  \n",
       "\n",
       "[180 rows x 9 columns]"
      ]
     },
     "execution_count": 26,
     "metadata": {},
     "output_type": "execute_result"
    }
   ],
   "source": [
    "data= pd.read_csv('cleaned-movie-dataset.csv')\n",
    "data"
   ]
  },
  {
   "cell_type": "code",
   "execution_count": 27,
   "id": "e4071b44",
   "metadata": {},
   "outputs": [
    {
     "data": {
      "text/html": [
       "<div>\n",
       "<style scoped>\n",
       "    .dataframe tbody tr th:only-of-type {\n",
       "        vertical-align: middle;\n",
       "    }\n",
       "\n",
       "    .dataframe tbody tr th {\n",
       "        vertical-align: top;\n",
       "    }\n",
       "\n",
       "    .dataframe thead th {\n",
       "        text-align: right;\n",
       "    }\n",
       "</style>\n",
       "<table border=\"1\" class=\"dataframe\">\n",
       "  <thead>\n",
       "    <tr style=\"text-align: right;\">\n",
       "      <th></th>\n",
       "      <th>Vote_average</th>\n",
       "      <th>Revenue</th>\n",
       "      <th>Budget</th>\n",
       "    </tr>\n",
       "  </thead>\n",
       "  <tbody>\n",
       "    <tr>\n",
       "      <th>0</th>\n",
       "      <td>7.492</td>\n",
       "      <td>724289031</td>\n",
       "      <td>100000000</td>\n",
       "    </tr>\n",
       "    <tr>\n",
       "      <th>1</th>\n",
       "      <td>6.896</td>\n",
       "      <td>0</td>\n",
       "      <td>125000000</td>\n",
       "    </tr>\n",
       "    <tr>\n",
       "      <th>2</th>\n",
       "      <td>7.723</td>\n",
       "      <td>2312335665</td>\n",
       "      <td>350000000</td>\n",
       "    </tr>\n",
       "    <tr>\n",
       "      <th>3</th>\n",
       "      <td>7.262</td>\n",
       "      <td>269000000</td>\n",
       "      <td>75000000</td>\n",
       "    </tr>\n",
       "    <tr>\n",
       "      <th>4</th>\n",
       "      <td>6.545</td>\n",
       "      <td>0</td>\n",
       "      <td>0</td>\n",
       "    </tr>\n",
       "    <tr>\n",
       "      <th>...</th>\n",
       "      <td>...</td>\n",
       "      <td>...</td>\n",
       "      <td>...</td>\n",
       "    </tr>\n",
       "    <tr>\n",
       "      <th>175</th>\n",
       "      <td>8.191</td>\n",
       "      <td>175302354</td>\n",
       "      <td>40000000</td>\n",
       "    </tr>\n",
       "    <tr>\n",
       "      <th>176</th>\n",
       "      <td>7.800</td>\n",
       "      <td>3129968</td>\n",
       "      <td>0</td>\n",
       "    </tr>\n",
       "    <tr>\n",
       "      <th>177</th>\n",
       "      <td>7.183</td>\n",
       "      <td>52000000</td>\n",
       "      <td>45000000</td>\n",
       "    </tr>\n",
       "    <tr>\n",
       "      <th>178</th>\n",
       "      <td>7.771</td>\n",
       "      <td>0</td>\n",
       "      <td>0</td>\n",
       "    </tr>\n",
       "    <tr>\n",
       "      <th>179</th>\n",
       "      <td>5.855</td>\n",
       "      <td>0</td>\n",
       "      <td>0</td>\n",
       "    </tr>\n",
       "  </tbody>\n",
       "</table>\n",
       "<p>180 rows × 3 columns</p>\n",
       "</div>"
      ],
      "text/plain": [
       "     Vote_average     Revenue     Budget\n",
       "0           7.492   724289031  100000000\n",
       "1           6.896           0  125000000\n",
       "2           7.723  2312335665  350000000\n",
       "3           7.262   269000000   75000000\n",
       "4           6.545           0          0\n",
       "..            ...         ...        ...\n",
       "175         8.191   175302354   40000000\n",
       "176         7.800     3129968          0\n",
       "177         7.183    52000000   45000000\n",
       "178         7.771           0          0\n",
       "179         5.855           0          0\n",
       "\n",
       "[180 rows x 3 columns]"
      ]
     },
     "execution_count": 27,
     "metadata": {},
     "output_type": "execute_result"
    }
   ],
   "source": [
    "# Extract the required columns\n",
    "df = data[['Vote_average', 'Revenue', 'Budget']]\n",
    "\n",
    "# Drop rows with missing values\n",
    "df = df.dropna()\n",
    "df"
   ]
  },
  {
   "cell_type": "code",
   "execution_count": 56,
   "id": "91ed2fc3",
   "metadata": {},
   "outputs": [],
   "source": [
    "# Define the input variables\n",
    "X = df[['Vote_average']] # select the feature variable\n",
    "y = (np.where(df['Revenue']>=7*df['Budget'], 1, 0))\n"
   ]
  },
  {
   "cell_type": "code",
   "execution_count": null,
   "id": "82ed106d",
   "metadata": {},
   "outputs": [],
   "source": []
  },
  {
   "cell_type": "code",
   "execution_count": 57,
   "id": "1acd3a19",
   "metadata": {},
   "outputs": [
    {
     "data": {
      "text/plain": [
       "LogisticRegression()"
      ]
     },
     "execution_count": 57,
     "metadata": {},
     "output_type": "execute_result"
    }
   ],
   "source": [
    "\n",
    "X_train, X_test, y_train, y_test = train_test_split(X, y, test_size=0.2, random_state=16) # split the data into training and testing sets\n",
    "\n",
    "# model building\n",
    "logreg = LogisticRegression()\n",
    "logreg.fit(X_train, y_train)\n"
   ]
  },
  {
   "cell_type": "code",
   "execution_count": 65,
   "id": "1300ffe9",
   "metadata": {},
   "outputs": [],
   "source": [
    "# Make Prediction using the model\n",
    "y_pred= logreg.predict(X_test)\n",
    "y_pred_proba = logreg.predict_proba(X_test)"
   ]
  },
  {
   "cell_type": "code",
   "execution_count": 66,
   "id": "dd605086",
   "metadata": {},
   "outputs": [
    {
     "name": "stdout",
     "output_type": "stream",
     "text": [
      "Accuracy: 0.7222222222222222\n",
      "Confusion matrix:\n",
      " [[ 3  7]\n",
      " [ 3 23]]\n",
      "True Positives: 23\n",
      "True Negatives: 3\n",
      "False Positives: 7\n",
      "False Negatives: 3\n"
     ]
    },
    {
     "data": {
      "image/png": "[encoded data removed]",
      "text/plain": [
       "<Figure size 864x432 with 2 Axes>"
      ]
     },
     "metadata": {
      "needs_background": "light"
     },
     "output_type": "display_data"
    }
   ],
   "source": [
    "# Confusion Matrix and Accuracy rating\n",
    "accuracy = accuracy_score(y_test, y_pred)\n",
    "cm = confusion_matrix(y_test, y_pred)\n",
    "plt.figure(figsize=(12,6))\n",
    "sb.heatmap(cm,annot=True,fmt='d',cmap='Reds')\n",
    "plt\n",
    "\n",
    "print('Accuracy:', accuracy)\n",
    "print('Confusion matrix:\\n', cm)\n",
    "# Extracting TP, TN, FP, FN from the confusion matrix\n",
    "tn, fp, fn, tp = cm.ravel()\n",
    "\n",
    "# Printing the values of TP, TN, FP, FN\n",
    "print(\"True Positives:\", tp)\n",
    "print(\"True Negatives:\", tn)\n",
    "print(\"False Positives:\", fp)\n",
    "print(\"False Negatives:\", fn)"
   ]
  },
  {
   "cell_type": "code",
   "execution_count": 67,
   "id": "93b6123b",
   "metadata": {},
   "outputs": [
    {
     "name": "stdout",
     "output_type": "stream",
     "text": [
      "Cross-validation scores: [0.63888889 0.55555556 0.55555556 0.63888889 0.63888889]\n"
     ]
    }
   ],
   "source": [
    "from sklearn.model_selection import cross_val_score\n",
    "from sklearn.linear_model import LogisticRegression\n",
    "\n",
    "scores = cross_val_score(logreg, X, y, cv=5)\n",
    "\n",
    "# Print the cross-validation scores, for a set of 5 arrays\n",
    "\n",
    "print(\"Cross-validation scores:\", scores)"
   ]
  },
  {
   "cell_type": "code",
   "execution_count": 76,
   "id": "fdc1844c",
   "metadata": {},
   "outputs": [
    {
     "name": "stdout",
     "output_type": "stream",
     "text": [
      "Precision: 0.7666666666666667\n",
      "Recall 0.8846153846153846\n",
      "F1 Score: 0.8214285714285715\n"
     ]
    }
   ],
   "source": [
    "from sklearn.metrics import accuracy_score, precision_score, recall_score, f1_score\n",
    "\n",
    "\n",
    "# calculate precision\n",
    "precision = precision_score(y_test, y_pred)\n",
    "\n",
    "# calculate recall\n",
    "recall = recall_score(y_test, y_pred)\n",
    "\n",
    "# calculate F1 score\n",
    "\n",
    "f1 = f1_score(y_test, y_pred)\n",
    "\n",
    "\n",
    "print('Precision:', precision)\n",
    "\n",
    "print('Recall', recall)\n",
    "print('F1 Score:', f1)"
   ]
  },
  {
   "cell_type": "code",
   "execution_count": 69,
   "id": "4df54e0d",
   "metadata": {},
   "outputs": [
    {
     "data": {
      "text/plain": [
       "array([[0.48660863, 0.51339137],\n",
       "       [0.56392661, 0.43607339],\n",
       "       [0.45698532, 0.54301468],\n",
       "       [0.24170695, 0.75829305],\n",
       "       [0.36032468, 0.63967532],\n",
       "       [0.48118041, 0.51881959],\n",
       "       [0.33614916, 0.66385084],\n",
       "       [0.51323915, 0.48676085],\n",
       "       [0.47767031, 0.52232969],\n",
       "       [0.35406204, 0.64593796],\n",
       "       [0.35797048, 0.64202952],\n",
       "       [0.27960043, 0.72039957],\n",
       "       [0.25653193, 0.74346807],\n",
       "       [0.34111246, 0.65888754],\n",
       "       [0.4423265 , 0.5576735 ],\n",
       "       [0.51100297, 0.48899703],\n",
       "       [0.2132036 , 0.7867964 ],\n",
       "       [0.31142995, 0.68857005],\n",
       "       [0.37518723, 0.62481277],\n",
       "       [0.44727315, 0.55272685],\n",
       "       [0.45973633, 0.54026367],\n",
       "       [0.28521425, 0.71478575],\n",
       "       [0.03339145, 0.96660855],\n",
       "       [0.2860839 , 0.7139161 ],\n",
       "       [0.24516059, 0.75483941],\n",
       "       [0.4814996 , 0.5185004 ],\n",
       "       [0.51653917, 0.48346083],\n",
       "       [0.31906567, 0.68093433],\n",
       "       [0.44748388, 0.55251612],\n",
       "       [0.35944106, 0.64055894],\n",
       "       [0.53364838, 0.46635162],\n",
       "       [0.24587111, 0.75412889],\n",
       "       [0.19560802, 0.80439198],\n",
       "       [0.41643626, 0.58356374],\n",
       "       [0.54244038, 0.45755962],\n",
       "       [0.38401945, 0.61598055]])"
      ]
     },
     "execution_count": 69,
     "metadata": {},
     "output_type": "execute_result"
    }
   ],
   "source": [
    "logreg.predict_proba(X_test)"
   ]
  },
  {
   "cell_type": "code",
   "execution_count": 45,
   "id": "bf8a95ed",
   "metadata": {},
   "outputs": [
    {
     "data": {
      "text/plain": [
       "<AxesSubplot:xlabel='Vote_average'>"
      ]
     },
     "execution_count": 45,
     "metadata": {},
     "output_type": "execute_result"
    },
    {
     "data": {
      "image/png": "[encoded data removed]",
      "text/plain": [
       "<Figure size 432x288 with 1 Axes>"
      ]
     },
     "metadata": {
      "needs_background": "light"
     },
     "output_type": "display_data"
    }
   ],
   "source": [
    "sb.regplot(x=X, y=y, data=df, logistic=True, ci=None)"
   ]
  },
  {
   "cell_type": "code",
   "execution_count": 46,
   "id": "20c63535",
   "metadata": {},
   "outputs": [
    {
     "data": {
      "image/png": "[encoded data removed]",
      "text/plain": [
       "<Figure size 432x288 with 1 Axes>"
      ]
     },
     "metadata": {
      "needs_background": "light"
     },
     "output_type": "display_data"
    }
   ],
   "source": [
    "# Plot the ROC curve\n",
    "import matplotlib.pyplot as plt\n",
    "\n",
    "plt.plot(fpr, tpr, color='darkorange', label='ROC curve')\n",
    "plt.plot([0, 1], [0, 1], color='navy', linestyle='--')\n",
    "plt.xlabel('False Positive Rate')\n",
    "plt.ylabel('True Positive Rate')\n",
    "plt.title('Receiver operating characteristic (ROC) curve')\n",
    "plt.legend()\n",
    "plt.show()\n"
   ]
  },
  {
   "cell_type": "code",
   "execution_count": 80,
   "id": "b6717e76",
   "metadata": {},
   "outputs": [
    {
     "data": {
      "text/html": [
       "<div>\n",
       "<style scoped>\n",
       "    .dataframe tbody tr th:only-of-type {\n",
       "        vertical-align: middle;\n",
       "    }\n",
       "\n",
       "    .dataframe tbody tr th {\n",
       "        vertical-align: top;\n",
       "    }\n",
       "\n",
       "    .dataframe thead th {\n",
       "        text-align: right;\n",
       "    }\n",
       "</style>\n",
       "<table border=\"1\" class=\"dataframe\">\n",
       "  <thead>\n",
       "    <tr style=\"text-align: right;\">\n",
       "      <th></th>\n",
       "      <th>Vote_average</th>\n",
       "      <th>Revenue</th>\n",
       "      <th>Budget</th>\n",
       "      <th>Predicted Revenue</th>\n",
       "    </tr>\n",
       "  </thead>\n",
       "  <tbody>\n",
       "    <tr>\n",
       "      <th>0</th>\n",
       "      <td>7.492</td>\n",
       "      <td>724289031</td>\n",
       "      <td>100000000</td>\n",
       "      <td>1</td>\n",
       "    </tr>\n",
       "    <tr>\n",
       "      <th>1</th>\n",
       "      <td>6.896</td>\n",
       "      <td>0</td>\n",
       "      <td>125000000</td>\n",
       "      <td>1</td>\n",
       "    </tr>\n",
       "    <tr>\n",
       "      <th>2</th>\n",
       "      <td>7.723</td>\n",
       "      <td>2312335665</td>\n",
       "      <td>350000000</td>\n",
       "      <td>1</td>\n",
       "    </tr>\n",
       "    <tr>\n",
       "      <th>3</th>\n",
       "      <td>7.262</td>\n",
       "      <td>269000000</td>\n",
       "      <td>75000000</td>\n",
       "      <td>1</td>\n",
       "    </tr>\n",
       "    <tr>\n",
       "      <th>4</th>\n",
       "      <td>6.545</td>\n",
       "      <td>0</td>\n",
       "      <td>0</td>\n",
       "      <td>1</td>\n",
       "    </tr>\n",
       "    <tr>\n",
       "      <th>...</th>\n",
       "      <td>...</td>\n",
       "      <td>...</td>\n",
       "      <td>...</td>\n",
       "      <td>...</td>\n",
       "    </tr>\n",
       "    <tr>\n",
       "      <th>175</th>\n",
       "      <td>8.191</td>\n",
       "      <td>175302354</td>\n",
       "      <td>40000000</td>\n",
       "      <td>0</td>\n",
       "    </tr>\n",
       "    <tr>\n",
       "      <th>176</th>\n",
       "      <td>7.800</td>\n",
       "      <td>3129968</td>\n",
       "      <td>0</td>\n",
       "      <td>1</td>\n",
       "    </tr>\n",
       "    <tr>\n",
       "      <th>177</th>\n",
       "      <td>7.183</td>\n",
       "      <td>52000000</td>\n",
       "      <td>45000000</td>\n",
       "      <td>1</td>\n",
       "    </tr>\n",
       "    <tr>\n",
       "      <th>178</th>\n",
       "      <td>7.771</td>\n",
       "      <td>0</td>\n",
       "      <td>0</td>\n",
       "      <td>1</td>\n",
       "    </tr>\n",
       "    <tr>\n",
       "      <th>179</th>\n",
       "      <td>5.855</td>\n",
       "      <td>0</td>\n",
       "      <td>0</td>\n",
       "      <td>1</td>\n",
       "    </tr>\n",
       "  </tbody>\n",
       "</table>\n",
       "<p>180 rows × 4 columns</p>\n",
       "</div>"
      ],
      "text/plain": [
       "     Vote_average     Revenue     Budget  Predicted Revenue\n",
       "0           7.492   724289031  100000000                  1\n",
       "1           6.896           0  125000000                  1\n",
       "2           7.723  2312335665  350000000                  1\n",
       "3           7.262   269000000   75000000                  1\n",
       "4           6.545           0          0                  1\n",
       "..            ...         ...        ...                ...\n",
       "175         8.191   175302354   40000000                  0\n",
       "176         7.800     3129968          0                  1\n",
       "177         7.183    52000000   45000000                  1\n",
       "178         7.771           0          0                  1\n",
       "179         5.855           0          0                  1\n",
       "\n",
       "[180 rows x 4 columns]"
      ]
     },
     "execution_count": 80,
     "metadata": {},
     "output_type": "execute_result"
    }
   ],
   "source": [
    "new_X = df[['Vote_average']]\n",
    "\n",
    "# Use your trained logistic regression model to predict the revenue\n",
    "y_pred = logreg.predict(new_X)\n",
    "\n",
    "# Save the predictions to a new column in your DataFrame\n",
    "df['Predicted Revenue'] = y_pred\n",
    "df"
   ]
  },
  {
   "cell_type": "code",
   "execution_count": 82,
   "id": "e24c6764",
   "metadata": {},
   "outputs": [
    {
     "data": {
      "text/plain": [
       "<bound method NDFrame.describe of      Vote_average     Revenue     Budget  Predicted Revenue\n",
       "0           7.492   724289031  100000000                  1\n",
       "1           6.896           0  125000000                  1\n",
       "2           7.723  2312335665  350000000                  1\n",
       "3           7.262   269000000   75000000                  1\n",
       "4           6.545           0          0                  1\n",
       "..            ...         ...        ...                ...\n",
       "175         8.191   175302354   40000000                  0\n",
       "176         7.800     3129968          0                  1\n",
       "177         7.183    52000000   45000000                  1\n",
       "178         7.771           0          0                  1\n",
       "179         5.855           0          0                  1\n",
       "\n",
       "[180 rows x 4 columns]>"
      ]
     },
     "execution_count": 82,
     "metadata": {},
     "output_type": "execute_result"
    }
   ],
   "source": [
    "df.describe"
   ]
  },
  {
   "cell_type": "code",
   "execution_count": null,
   "id": "0a7898d8",
   "metadata": {},
   "outputs": [],
   "source": []
  },
  {
   "cell_type": "code",
   "execution_count": null,
   "id": "0ddba80c",
   "metadata": {},
   "outputs": [],
   "source": []
  }
 ],
 "metadata": {
  "kernelspec": {
   "display_name": "Python 3 (ipykernel)",
   "language": "python",
   "name": "python3"
  },
  "language_info": {
   "codemirror_mode": {
    "name": "ipython",
    "version": 3
   },
   "file_extension": ".py",
   "mimetype": "text/x-python",
   "name": "python",
   "nbconvert_exporter": "python",
   "pygments_lexer": "ipython3",
   "version": "3.9.12"
  }
 },
 "nbformat": 4,
 "nbformat_minor": 5
}

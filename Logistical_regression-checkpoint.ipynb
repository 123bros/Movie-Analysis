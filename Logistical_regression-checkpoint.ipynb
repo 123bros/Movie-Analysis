{
 "cells": [
  {
   "cell_type": "markdown",
   "id": "6c572846",
   "metadata": {},
   "source": [
    "# Logistacal Regression"
   ]
  },
  {
   "cell_type": "code",
   "execution_count": 1,
   "id": "2a3c9617",
   "metadata": {},
   "outputs": [],
   "source": [
    "import pandas as pd\n",
    "import numpy as np\n",
    "from sklearn import preprocessing\n",
    "import matplotlib.pyplot as plt \n",
    "plt.rc(\"font\", size=14)\n",
    "from sklearn.linear_model import LogisticRegression\n",
    "from sklearn.model_selection import train_test_split\n",
    "import seaborn as sns\n",
    "sns.set(style=\"white\")\n",
    "sns.set(style=\"whitegrid\", color_codes=True)"
   ]
  },
  {
   "cell_type": "code",
   "execution_count": 2,
   "id": "13bc7f6c",
   "metadata": {},
   "outputs": [],
   "source": [
    "data= pd.read_csv('cleaned-movie-dataset.csv')"
   ]
  },
  {
   "cell_type": "code",
   "execution_count": 13,
   "id": "e4071b44",
   "metadata": {},
   "outputs": [],
   "source": [
    "# Extract the required columns\n",
    "df = data[['Rating', 'Revenue', 'Budget']]\n",
    "\n",
    "# Drop rows with missing values\n",
    "df = df.dropna()\n"
   ]
  },
  {
   "cell_type": "code",
   "execution_count": 33,
   "id": "91ed2fc3",
   "metadata": {},
   "outputs": [],
   "source": [
    "# Define the input variables\n",
    "X = data[['Rating', 'Budget']]\n",
    "\n",
    "# Calculate the threshold based on three times the budget\n",
    "threshold = 3 * data['Budget']\n",
    "\n",
    "# Convert the revenue data to binary values using the dynamic threshold\n",
    "y = (data['Revenue'] > threshold).astype(int)\n",
    "\n",
    "# Train the logistic regression model\n",
    "clf = LogisticRegression(random_state=42, max_iter=1000).fit(X, y)\n",
    "\n",
    "# Predict the revenue for all movies in the dataset\n",
    "revenue_predictions = clf.predict(X)\n",
    "\n"
   ]
  },
  {
   "cell_type": "code",
   "execution_count": 34,
   "id": "6ef3c4ed",
   "metadata": {},
   "outputs": [],
   "source": [
    "# Split the dataset into training and testing sets\n",
    "from sklearn.model_selection import train_test_split\n",
    "\n",
    "X_train, X_test, y_train, y_test = train_test_split(X, y, test_size=0.2, random_state=42)\n"
   ]
  },
  {
   "cell_type": "code",
   "execution_count": 35,
   "id": "5f46e889",
   "metadata": {},
   "outputs": [],
   "source": [
    "# Train the logistic regression model\n",
    "from sklearn.linear_model import LogisticRegression\n",
    "\n",
    "clf = LogisticRegression(random_state=42, max_iter=1000).fit(X_train, y_train)\n"
   ]
  },
  {
   "cell_type": "code",
   "execution_count": 36,
   "id": "cd97bb78",
   "metadata": {},
   "outputs": [
    {
     "name": "stdout",
     "output_type": "stream",
     "text": [
      "Accuracy: 1.0\n",
      "Confusion matrix:\n",
      " [[1 0]\n",
      " [0 3]]\n"
     ]
    }
   ],
   "source": [
    "# Evaluate the logistic regression model\n",
    "from sklearn.metrics import accuracy_score, confusion_matrix\n",
    "\n",
    "y_pred = clf.predict(X_test)\n",
    "\n",
    "accuracy = accuracy_score(y_test, y_pred)\n",
    "cm = confusion_matrix(y_test, y_pred)\n",
    "\n",
    "print('Accuracy:', accuracy)\n",
    "print('Confusion matrix:\\n', cm)\n"
   ]
  },
  {
   "cell_type": "code",
   "execution_count": 37,
   "id": "6c57d578",
   "metadata": {},
   "outputs": [],
   "source": [
    "# Predict the probabilities of the test set\n",
    "y_prob = clf.predict_proba(X_test)[:, 1]\n"
   ]
  },
  {
   "cell_type": "code",
   "execution_count": 38,
   "id": "2257e38c",
   "metadata": {},
   "outputs": [],
   "source": [
    "# Compute the false positive rate and true positive rate\n",
    "from sklearn.metrics import roc_curve\n",
    "\n",
    "fpr, tpr, thresholds = roc_curve(y_test, y_prob)\n"
   ]
  },
  {
   "cell_type": "code",
   "execution_count": 39,
   "id": "f98bf51a",
   "metadata": {},
   "outputs": [
    {
     "data": {
      "image/png": "[encoded data removed]",
      "text/plain": [
       "<Figure size 432x288 with 1 Axes>"
      ]
     },
     "metadata": {},
     "output_type": "display_data"
    }
   ],
   "source": [
    "# Plot the ROC curve\n",
    "import matplotlib.pyplot as plt\n",
    "\n",
    "plt.plot(fpr, tpr, color='darkorange', label='ROC curve')\n",
    "plt.plot([0, 1], [0, 1], color='navy', linestyle='--')\n",
    "plt.xlabel('False Positive Rate')\n",
    "plt.ylabel('True Positive Rate')\n",
    "plt.title('Receiver operating characteristic (ROC) curve')\n",
    "plt.legend()\n",
    "plt.show()\n"
   ]
  },
  {
   "cell_type": "code",
   "execution_count": 40,
   "id": "cd1da0b6",
   "metadata": {},
   "outputs": [
    {
     "name": "stdout",
     "output_type": "stream",
     "text": [
      "Predicted revenue: [1]\n"
     ]
    },
    {
     "name": "stderr",
     "output_type": "stream",
     "text": [
      "C:\\Users\\lyx03\\anaconda3\\lib\\site-packages\\sklearn\\base.py:450: UserWarning: X does not have valid feature names, but LogisticRegression was fitted with feature names\n",
      "  warnings.warn(\n"
     ]
    }
   ],
   "source": [
    "# Predict the revenue of a new movie\n",
    "new_movie = [[7.0, 50000000]]\n",
    "revenue = clf.predict(new_movie)\n",
    "\n",
    "print('Predicted revenue:', revenue)\n",
    "\n"
   ]
  },
  {
   "cell_type": "code",
   "execution_count": 41,
   "id": "2d39d6b2",
   "metadata": {},
   "outputs": [],
   "source": [
    "\n",
    "# Train the logistic regression model\n",
    "clf = LogisticRegression(random_state=42, max_iter=1000).fit(X, y)\n",
    "\n",
    "# Predict the revenue for all movies in the dataset\n",
    "revenue_predictions = clf.predict(X)\n"
   ]
  },
  {
   "cell_type": "code",
   "execution_count": null,
   "id": "6024d51c",
   "metadata": {},
   "outputs": [],
   "source": []
  }
 ],
 "metadata": {
  "kernelspec": {
   "display_name": "Python 3 (ipykernel)",
   "language": "python",
   "name": "python3"
  },
  "language_info": {
   "codemirror_mode": {
    "name": "ipython",
    "version": 3
   },
   "file_extension": ".py",
   "mimetype": "text/x-python",
   "name": "python",
   "nbconvert_exporter": "python",
   "pygments_lexer": "ipython3",
   "version": "3.9.12"
  }
 },
 "nbformat": 4,
 "nbformat_minor": 5
}

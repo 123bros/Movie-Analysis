{
 "cells": [
  {
   "cell_type": "code",
   "execution_count": 39,
   "id": "3d1debaa",
   "metadata": {},
   "outputs": [],
   "source": [
    "import pandas as pd\n",
    "import numpy as np\n",
    "from sklearn.ensemble import RandomForestRegressor\n",
    "from sklearn import preprocessing\n",
    "import matplotlib.pyplot as plt \n",
    "plt.rc(\"font\", size=14)\n",
    "from sklearn.model_selection import train_test_split\n",
    "import seaborn as sb\n",
    "from sklearn.preprocessing import OneHotEncoder"
   ]
  },
  {
   "cell_type": "code",
   "execution_count": 75,
   "id": "702f4dab",
   "metadata": {},
   "outputs": [],
   "source": [
    "df= pd.read_csv('cleaned-movie-dataset.csv')\n",
    "df\n",
    "\n",
    "X = df[['Vote_average', 'Budget']]\n",
    "# create binary target variable for profitability\n",
    "df['profit_margin_pct'] = (df['Revenue'] - df['Budget']) / df['Budget']\n",
    "df['profitable'] = df['profit_margin_pct'] > 0\n",
    "y = df['profit_margin_pct']\n",
    "\n",
    "\n",
    "\n",
    "\n",
    "\n",
    "# split data into training and testing sets\n",
    "from sklearn.model_selection import train_test_split\n",
    "X_train, X_test, y_train, y_test = train_test_split(X, y, test_size=0.2, random_state=42)\n",
    "\n",
    "\n"
   ]
  },
  {
   "cell_type": "code",
   "execution_count": 85,
   "id": "901cb69e",
   "metadata": {},
   "outputs": [],
   "source": [
    "rf = RandomForestRegressor(random_state=42, n_estimators=100)\n",
    "rf.fit(X_train, y_train)\n",
    "y_pred = rf.predict(X_test)"
   ]
  },
  {
   "cell_type": "code",
   "execution_count": 86,
   "id": "0a68588d",
   "metadata": {},
   "outputs": [
    {
     "name": "stdout",
     "output_type": "stream",
     "text": [
      "Mean Absolute Error: 2.847154281855687\n"
     ]
    }
   ],
   "source": [
    "from sklearn.metrics import mean_absolute_error\n",
    "mae = mean_absolute_error(y_test, y_pred)\n",
    "print('Mean Absolute Error:', mae)\n"
   ]
  },
  {
   "cell_type": "code",
   "execution_count": 87,
   "id": "da4aa9da",
   "metadata": {},
   "outputs": [
    {
     "name": "stdout",
     "output_type": "stream",
     "text": [
      "Mean Squared Error (MSE): 32.379883867510785\n",
      "R-squared: 0.21822096923547463\n"
     ]
    }
   ],
   "source": [
    "from sklearn.metrics import mean_squared_error, r2_score\n",
    "\n",
    "\n",
    "\n",
    "# Calculate the mean squared error (MSE)\n",
    "mse = mean_squared_error(y_test, y_pred)\n",
    "print(\"Mean Squared Error (MSE):\", mse)\n",
    "\n",
    "# Calculate the coefficient of determination (R-squared)\n",
    "r2 = r2_score(y_test, y_pred)\n",
    "print(\"R-squared:\", r2)\n"
   ]
  },
  {
   "cell_type": "code",
   "execution_count": null,
   "id": "e1a47649",
   "metadata": {},
   "outputs": [],
   "source": [
    "# Ask the user to input the values for the new movie\n",
    "new_movie_ratings = float(input(\"Enter the ratings for the new movie: \"))\n",
    "new_movie_budget = float(input(\"Enter the budget for the new movie: \"))\n",
    "\n",
    "\n",
    "# Use the trained model to make predictions on the new movie\n",
    "new_movie_profit_margin_pct = rf.predict([[new_movie_ratings, new_movie_budget]])\n",
    "\n",
    "if new_movie_profit_margin_pct[0] > 0:\n",
    "    required_revenue = (1 + new_movie_profit_margin_pct[0]) * new_movie_budget\n",
    "    print(f\"The movie is predicted to require at least {required_revenue:.2f} dollars in revenue to be profitable.\")\n",
    "else:\n",
    "    print(\"The movie is predicted to be unprofitable.\")\n",
    "\n"
   ]
  },
  {
   "cell_type": "code",
   "execution_count": null,
   "id": "e9586cbd",
   "metadata": {},
   "outputs": [],
   "source": []
  }
 ],
 "metadata": {
  "kernelspec": {
   "display_name": "Python 3 (ipykernel)",
   "language": "python",
   "name": "python3"
  },
  "language_info": {
   "codemirror_mode": {
    "name": "ipython",
    "version": 3
   },
   "file_extension": ".py",
   "mimetype": "text/x-python",
   "name": "python",
   "nbconvert_exporter": "python",
   "pygments_lexer": "ipython3",
   "version": "3.9.12"
  }
 },
 "nbformat": 4,
 "nbformat_minor": 5
}

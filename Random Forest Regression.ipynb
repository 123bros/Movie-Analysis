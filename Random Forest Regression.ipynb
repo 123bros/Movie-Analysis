{
 "cells": [
  {
   "cell_type": "code",
   "execution_count": 1,
   "id": "fb48e24a",
   "metadata": {},
   "outputs": [],
   "source": [
    "import pandas as pd\n",
    "import numpy as np\n",
    "from sklearn.ensemble import RandomForestRegressor\n",
    "from sklearn import preprocessing\n",
    "import matplotlib.pyplot as plt \n",
    "plt.rc(\"font\", size=14)\n",
    "from sklearn.model_selection import train_test_split\n",
    "import seaborn as sb\n",
    "from sklearn.preprocessing import OneHotEncoder"
   ]
  },
  {
   "cell_type": "code",
   "execution_count": 2,
   "id": "702f4dab",
   "metadata": {},
   "outputs": [],
   "source": [
    "df= pd.read_csv('cleaned-movie-dataset.csv')\n",
    "df\n",
    "\n",
    "X = df[['Vote_average', 'Budget']]\n",
    "# create binary target variable for profitability\n",
    "df['profit_margin_pct'] = (df['Revenue'] - df['Budget']) / df['Budget']\n",
    "df['profitable'] = df['profit_margin_pct'] > 0\n",
    "y = df['profit_margin_pct']\n",
    "\n",
    "\n",
    "\n",
    "\n",
    "\n",
    "# split data into training and testing sets\n",
    "from sklearn.model_selection import train_test_split\n",
    "X_train, X_test, y_train, y_test = train_test_split(X, y, test_size=0.2, random_state=42)\n",
    "\n",
    "\n"
   ]
  },
  {
   "cell_type": "code",
   "execution_count": 3,
   "id": "9761d34b",
   "metadata": {},
   "outputs": [],
   "source": [
    "rf = RandomForestRegressor(random_state=42, n_estimators=100,)\n",
    "rf.fit(X_train, y_train)\n",
    "y_pred = rf.predict(X_test)"
   ]
  },
  {
   "cell_type": "code",
   "execution_count": 4,
   "id": "9b90c26e",
   "metadata": {},
   "outputs": [
    {
     "name": "stdout",
     "output_type": "stream",
     "text": [
      "Mean Absolute Error: 2.847154281855687\n"
     ]
    }
   ],
   "source": [
    "from sklearn.metrics import mean_absolute_error\n",
    "mae = mean_absolute_error(y_test, y_pred)\n",
    "print('Mean Absolute Error:', mae)\n"
   ]
  },
  {
   "cell_type": "code",
   "execution_count": 5,
   "id": "6abec980",
   "metadata": {},
   "outputs": [
    {
     "name": "stdout",
     "output_type": "stream",
     "text": [
      "Mean Squared Error (MSE): 32.379883867510785\n",
      "R-squared: 0.21822096923547463\n"
     ]
    }
   ],
   "source": [
    "from sklearn.metrics import mean_squared_error, r2_score\n",
    "\n",
    "\n",
    "\n",
    "# Calculate the mean squared error (MSE)\n",
    "mse = mean_squared_error(y_test, y_pred)\n",
    "print(\"Mean Squared Error (MSE):\", mse)\n",
    "\n",
    "# Calculate the coefficient of determination (R-squared)\n",
    "r2 = r2_score(y_test, y_pred)\n",
    "print(\"R-squared:\", r2)\n"
   ]
  },
  {
   "cell_type": "code",
   "execution_count": 6,
   "id": "db9c58d4",
   "metadata": {},
   "outputs": [
    {
     "name": "stdout",
     "output_type": "stream",
     "text": [
      "Enter the ratings for the new movie: 7\n",
      "Enter the budget for the new movie: 100000000\n",
      "The movie is predicted to require at least 419474135.49 dollars in revenue to be profitable.\n"
     ]
    },
    {
     "name": "stderr",
     "output_type": "stream",
     "text": [
      "C:\\Users\\lyx03\\anaconda3\\lib\\site-packages\\sklearn\\base.py:450: UserWarning: X does not have valid feature names, but RandomForestRegressor was fitted with feature names\n",
      "  warnings.warn(\n"
     ]
    }
   ],
   "source": [
    "#Ask the user to input the values for the new movie\n",
    "new_movie_ratings = float(input(\"Enter the ratings for the new movie: \"))\n",
    "new_movie_budget = float(input(\"Enter the budget for the new movie: \"))\n",
    "\n",
    "\n",
    "# Use the trained model to make predictions on the new movie\n",
    "new_movie_profit_margin_pct = rf.predict([[new_movie_ratings, new_movie_budget]])\n",
    "\n",
    "if new_movie_profit_margin_pct[0] > 0:\n",
    "    required_revenue = (1 + new_movie_profit_margin_pct[0]) * new_movie_budget\n",
    "    print(f\"The movie is predicted to require at least {required_revenue:.2f} dollars in revenue to be profitable.\")\n",
    "else:\n",
    "    print(\"The movie is predicted to be unprofitable.\")\n",
    "\n"
   ]
  },
  {
   "attachments": {},
   "cell_type": "markdown",
   "id": "1e96fdff",
   "metadata": {},
   "source": [
    "# Another Model- Gradient Boosting Regression\n"
   ]
  },
  {
   "cell_type": "code",
   "execution_count": 16,
   "id": "490c386a",
   "metadata": {},
   "outputs": [
    {
     "name": "stdout",
     "output_type": "stream",
     "text": [
      "Mean Absolute Error: 2.868184319717049\n",
      "Mean Squared Error: 13.973178294708166\n",
      "R-squared: 0.6626319653080142\n",
      "Enter the ratings for the new movie: 7\n",
      "Enter the budget for the new movie: 20000000\n",
      "The movie is predicted to require at least 61428719.89 dollars in revenue to be profitable.\n"
     ]
    },
    {
     "name": "stderr",
     "output_type": "stream",
     "text": [
      "C:\\Users\\lyx03\\anaconda3\\lib\\site-packages\\sklearn\\base.py:450: UserWarning: X does not have valid feature names, but GradientBoostingRegressor was fitted with feature names\n",
      "  warnings.warn(\n"
     ]
    }
   ],
   "source": [
    "import pandas as pd\n",
    "from sklearn.ensemble import GradientBoostingRegressor\n",
    "from sklearn.metrics import mean_absolute_error, mean_squared_error, r2_score\n",
    "from sklearn.model_selection import train_test_split\n",
    "\n",
    "# Load the data\n",
    "df = pd.read_csv('cleaned-movie-dataset.csv')\n",
    "\n",
    "# Select the features and target variable\n",
    "X = df[['Vote_average', 'Budget']]\n",
    "df['profit_margin_pct'] = (df['Revenue'] - df['Budget']) / df['Budget']\n",
    "df['profitable'] = df['profit_margin_pct'] > 0\n",
    "y = df['profit_margin_pct']\n",
    "\n",
    "\n",
    "# Split the data into training and testing sets\n",
    "X_train, X_test, y_train, y_test = train_test_split(X, y, test_size=0.2, random_state=42)\n",
    "\n",
    "# Create a Gradient Boosting Regressor model\n",
    "gb = GradientBoostingRegressor(random_state=42, n_estimators=100)\n",
    "\n",
    "# Fit the model to the training data\n",
    "gb.fit(X_train, y_train)\n",
    "\n",
    "# Make predictions on the testing data\n",
    "y_pred = gb.predict(X_test)\n",
    "\n",
    "# Evaluate the model using metrics\n",
    "mae = mean_absolute_error(y_test, y_pred)\n",
    "mse = mean_squared_error(y_test, y_pred)\n",
    "r2 = r2_score(y_test, y_pred)\n",
    "\n",
    "print('Mean Absolute Error:', mae)\n",
    "print('Mean Squared Error:', mse)\n",
    "print('R-squared:', r2)\n",
    "\n",
    "# Ask the user to input the values for the new movie\n",
    "new_movie_ratings = float(input(\"Enter the ratings for the new movie: \"))\n",
    "new_movie_budget = float(input(\"Enter the budget for the new movie: \"))\n",
    "\n",
    "# Use the trained model to make predictions on the new movie\n",
    "new_movie_profit_margin_pct = gb.predict([[new_movie_ratings, new_movie_budget]])\n",
    "\n",
    "if new_movie_profit_margin_pct[0] > 0:\n",
    "    required_revenue = (1 + new_movie_profit_margin_pct[0]) * new_movie_budget\n",
    "    print(f\"The movie is predicted to require at least {required_revenue:.2f} dollars in revenue to be profitable.\")\n",
    "else:\n",
    "    print(\"The movie is predicted to be unprofitable.\")\n"
   ]
  },
  {
   "cell_type": "code",
   "execution_count": null,
   "id": "7ee455f8",
   "metadata": {},
   "outputs": [],
   "source": []
  },
  {
   "cell_type": "code",
   "execution_count": null,
   "id": "5c5cae07",
   "metadata": {},
   "outputs": [],
   "source": []
  }
 ],
 "metadata": {
  "kernelspec": {
   "display_name": "Python 3 (ipykernel)",
   "language": "python",
   "name": "python3"
  },
  "language_info": {
   "codemirror_mode": {
    "name": "ipython",
    "version": 3
   },
   "file_extension": ".py",
   "mimetype": "text/x-python",
   "name": "python",
   "nbconvert_exporter": "python",
   "pygments_lexer": "ipython3",
   "version": "3.10.11"
  }
 },
 "nbformat": 4,
 "nbformat_minor": 5
}

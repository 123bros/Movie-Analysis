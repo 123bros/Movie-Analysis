import requests
import json
import pandas as pd

# Define the API endpoint URL and API key
url = "https://api.themoviedb.org/3/search/movie"
api_key = "5f2c9ce3f97fbe7103fa79cfc5805ff3"

# Define a list of movie titles to search for
movies = ["The Lion King", "Forrest Gump", "The Shawshank Redemption"]

# Define an empty list to store the movie statistics
movie_stats = []

# Loop through each movie title and retrieve its statistics
for movie in movies:
    # Define the query parameters
    params = {"api_key": api_key, "query": movie}
    
    # Send a GET request to the API endpoint with the query parameters
    response = requests.get(url, params=params)
    
    # Parse the response JSON data into a Python dictionary
    data = response.json()
    
    # Retrieve the first movie result from the search (assuming it's the correct one)
    movie_data = data["results"][0]
    
    # Extract the desired statistics from the movie data
    title = movie_data["title"]
    release_date = movie_data["release_date"]
    overview = movie_data["overview"]
    rating = movie_data["vote_average"]
    genre_ids = movie_data["genre_ids"]
    
    # Append the movie statistics to the list
    movie_stats.append({
        "Title": title,
        "Release Date": release_date,
        "Overview": overview,
        "Rating": rating,
        "Genre IDs": genre_ids
    })

# Convert the movie statistics list to a Pandas dataframe
df = pd.DataFrame(movie_stats)

# Print the dataframe
print(df)
